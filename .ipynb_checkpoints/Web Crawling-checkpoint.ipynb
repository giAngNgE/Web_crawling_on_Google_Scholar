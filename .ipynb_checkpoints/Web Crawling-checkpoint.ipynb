{
 "cells": [
  {
   "cell_type": "markdown",
   "metadata": {
    "id": "r85LNibZkSUZ"
   },
   "source": [
    "\n",
    "\n",
    "## Import Libaries"
   ]
  },
  {
   "cell_type": "code",
   "execution_count": 1,
   "metadata": {
    "id": "19EhpLspkSUZ"
   },
   "outputs": [],
   "source": [
    "import matplotlib.pyplot as plt\n",
    "import numpy as np\n",
    "import pandas as pd\n",
    "import time\n",
    "import datetime\n",
    "from scipy import stats\n",
    "import matplotlib"
   ]
  },
  {
   "cell_type": "markdown",
   "metadata": {
    "id": "gqbiN3nAw0tS"
   },
   "source": [
    "## Professor List Generation"
   ]
  },
  {
   "cell_type": "markdown",
   "metadata": {
    "id": "Bm7eq9Iywjc-"
   },
   "source": [
    "### 1. Import and install web crawling library. \n",
    "\n",
    "<div class=\"alert alert-block alert-warning\">\n",
    "\n",
    "**Code**: \n",
    "    Import and install Web crawling library. \n",
    "</div> \n",
    "\n"
   ]
  },
  {
   "cell_type": "code",
   "execution_count": 20,
   "metadata": {
    "colab": {
     "base_uri": "https://localhost:8080/"
    },
    "id": "rHKPhKwUwtyI",
    "outputId": "680f75b1-8a28-41df-b1d1-a1fc6de52782"
   },
   "outputs": [
    {
     "name": "stdout",
     "output_type": "stream",
     "text": [
      "Get:1 https://cloud.r-project.org/bin/linux/ubuntu bionic-cran40/ InRelease [3,626 B]\n",
      "Ign:2 https://developer.download.nvidia.com/compute/cuda/repos/ubuntu1804/x86_64  InRelease\n",
      "Get:3 http://ppa.launchpad.net/c2d4u.team/c2d4u4.0+/ubuntu bionic InRelease [15.9 kB]\n",
      "Hit:4 http://archive.ubuntu.com/ubuntu bionic InRelease\n",
      "Get:5 http://security.ubuntu.com/ubuntu bionic-security InRelease [88.7 kB]\n",
      "Ign:6 https://developer.download.nvidia.com/compute/machine-learning/repos/ubuntu1804/x86_64  InRelease\n",
      "Get:7 https://developer.download.nvidia.com/compute/cuda/repos/ubuntu1804/x86_64  Release [697 B]\n",
      "Hit:8 https://developer.download.nvidia.com/compute/machine-learning/repos/ubuntu1804/x86_64  Release\n",
      "Get:9 https://developer.download.nvidia.com/compute/cuda/repos/ubuntu1804/x86_64  Release.gpg [836 B]\n",
      "Get:10 http://archive.ubuntu.com/ubuntu bionic-updates InRelease [88.7 kB]\n",
      "Hit:11 http://ppa.launchpad.net/cran/libgit2/ubuntu bionic InRelease\n",
      "Get:12 https://cloud.r-project.org/bin/linux/ubuntu bionic-cran40/ Packages [53.9 kB]\n",
      "Get:13 http://archive.ubuntu.com/ubuntu bionic-backports InRelease [74.6 kB]\n",
      "Get:14 http://ppa.launchpad.net/deadsnakes/ppa/ubuntu bionic InRelease [15.9 kB]\n",
      "Get:15 http://ppa.launchpad.net/graphics-drivers/ppa/ubuntu bionic InRelease [15.9 kB]\n",
      "Ign:17 https://developer.download.nvidia.com/compute/cuda/repos/ubuntu1804/x86_64  Packages\n",
      "Get:17 https://developer.download.nvidia.com/compute/cuda/repos/ubuntu1804/x86_64  Packages [742 kB]\n",
      "Get:18 http://ppa.launchpad.net/c2d4u.team/c2d4u4.0+/ubuntu bionic/main Sources [1,759 kB]\n",
      "Get:19 http://security.ubuntu.com/ubuntu bionic-security/restricted amd64 Packages [396 kB]\n",
      "Get:20 http://security.ubuntu.com/ubuntu bionic-security/main amd64 Packages [2,116 kB]\n",
      "Get:21 http://archive.ubuntu.com/ubuntu bionic-updates/restricted amd64 Packages [426 kB]\n",
      "Get:22 http://security.ubuntu.com/ubuntu bionic-security/multiverse amd64 Packages [24.7 kB]\n",
      "Get:23 http://security.ubuntu.com/ubuntu bionic-security/universe amd64 Packages [1,410 kB]\n",
      "Get:24 http://ppa.launchpad.net/c2d4u.team/c2d4u4.0+/ubuntu bionic/main amd64 Packages [900 kB]\n",
      "Get:25 http://archive.ubuntu.com/ubuntu bionic-updates/main amd64 Packages [2,546 kB]\n",
      "Get:26 http://archive.ubuntu.com/ubuntu bionic-updates/multiverse amd64 Packages [31.6 kB]\n",
      "Get:27 http://archive.ubuntu.com/ubuntu bionic-updates/universe amd64 Packages [2,181 kB]\n",
      "Get:28 http://ppa.launchpad.net/deadsnakes/ppa/ubuntu bionic/main amd64 Packages [39.7 kB]\n",
      "Get:29 http://ppa.launchpad.net/graphics-drivers/ppa/ubuntu bionic/main amd64 Packages [53.2 kB]\n",
      "Fetched 13.0 MB in 4s (3,319 kB/s)\n",
      "Reading package lists... Done\n",
      "Reading package lists... Done\n",
      "Building dependency tree       \n",
      "Reading state information... Done\n",
      "The following package was automatically installed and is no longer required:\n",
      "  libnvidia-common-460\n",
      "Use 'apt autoremove' to remove it.\n",
      "The following additional packages will be installed:\n",
      "  chromium-browser chromium-browser-l10n chromium-codecs-ffmpeg-extra\n",
      "Suggested packages:\n",
      "  webaccounts-chromium-extension unity-chromium-extension\n",
      "The following NEW packages will be installed:\n",
      "  chromium-browser chromium-browser-l10n chromium-chromedriver\n",
      "  chromium-codecs-ffmpeg-extra\n",
      "0 upgraded, 4 newly installed, 0 to remove and 69 not upgraded.\n",
      "Need to get 86.6 MB of archives.\n",
      "After this operation, 300 MB of additional disk space will be used.\n",
      "Get:1 http://archive.ubuntu.com/ubuntu bionic-updates/universe amd64 chromium-codecs-ffmpeg-extra amd64 90.0.4430.72-0ubuntu0.18.04.1 [1,128 kB]\n",
      "Get:2 http://archive.ubuntu.com/ubuntu bionic-updates/universe amd64 chromium-browser amd64 90.0.4430.72-0ubuntu0.18.04.1 [76.9 MB]\n",
      "Get:3 http://archive.ubuntu.com/ubuntu bionic-updates/universe amd64 chromium-browser-l10n all 90.0.4430.72-0ubuntu0.18.04.1 [3,858 kB]\n",
      "Get:4 http://archive.ubuntu.com/ubuntu bionic-updates/universe amd64 chromium-chromedriver amd64 90.0.4430.72-0ubuntu0.18.04.1 [4,743 kB]\n",
      "Fetched 86.6 MB in 4s (22.7 MB/s)\n",
      "Selecting previously unselected package chromium-codecs-ffmpeg-extra.\n",
      "(Reading database ... 160690 files and directories currently installed.)\n",
      "Preparing to unpack .../chromium-codecs-ffmpeg-extra_90.0.4430.72-0ubuntu0.18.04.1_amd64.deb ...\n",
      "Unpacking chromium-codecs-ffmpeg-extra (90.0.4430.72-0ubuntu0.18.04.1) ...\n",
      "Selecting previously unselected package chromium-browser.\n",
      "Preparing to unpack .../chromium-browser_90.0.4430.72-0ubuntu0.18.04.1_amd64.deb ...\n",
      "Unpacking chromium-browser (90.0.4430.72-0ubuntu0.18.04.1) ...\n",
      "Selecting previously unselected package chromium-browser-l10n.\n",
      "Preparing to unpack .../chromium-browser-l10n_90.0.4430.72-0ubuntu0.18.04.1_all.deb ...\n",
      "Unpacking chromium-browser-l10n (90.0.4430.72-0ubuntu0.18.04.1) ...\n",
      "Selecting previously unselected package chromium-chromedriver.\n",
      "Preparing to unpack .../chromium-chromedriver_90.0.4430.72-0ubuntu0.18.04.1_amd64.deb ...\n",
      "Unpacking chromium-chromedriver (90.0.4430.72-0ubuntu0.18.04.1) ...\n",
      "Setting up chromium-codecs-ffmpeg-extra (90.0.4430.72-0ubuntu0.18.04.1) ...\n",
      "Setting up chromium-browser (90.0.4430.72-0ubuntu0.18.04.1) ...\n",
      "update-alternatives: using /usr/bin/chromium-browser to provide /usr/bin/x-www-browser (x-www-browser) in auto mode\n",
      "update-alternatives: using /usr/bin/chromium-browser to provide /usr/bin/gnome-www-browser (gnome-www-browser) in auto mode\n",
      "Setting up chromium-chromedriver (90.0.4430.72-0ubuntu0.18.04.1) ...\n",
      "Setting up chromium-browser-l10n (90.0.4430.72-0ubuntu0.18.04.1) ...\n",
      "Processing triggers for man-db (2.8.3-2ubuntu0.1) ...\n",
      "Processing triggers for hicolor-icon-theme (0.17-2) ...\n",
      "Processing triggers for mime-support (3.60ubuntu1) ...\n",
      "Processing triggers for libc-bin (2.27-3ubuntu1.2) ...\n",
      "/sbin/ldconfig.real: /usr/local/lib/python3.7/dist-packages/ideep4py/lib/libmkldnn.so.0 is not a symbolic link\n",
      "\n",
      "cp: '/usr/lib/chromium-browser/chromedriver' and '/usr/bin/chromedriver' are the same file\n",
      "Requirement already satisfied: selenium in /usr/local/lib/python3.7/dist-packages (3.141.0)\n",
      "Requirement already satisfied: urllib3 in /usr/local/lib/python3.7/dist-packages (from selenium) (1.24.3)\n"
     ]
    }
   ],
   "source": [
    "# install chromium, its driver, and selenium\n",
    "!apt-get update\n",
    "!apt install chromium-chromedriver\n",
    "!cp /usr/lib/chromium-browser/chromedriver /usr/bin\n",
    "!pip install selenium\n",
    "# set options to be headless, ..\n",
    "from selenium import webdriver\n",
    "options = webdriver.ChromeOptions()\n",
    "options.add_argument('--headless')\n",
    "options.add_argument('--no-sandbox')\n",
    "options.add_argument('--disable-dev-shm-usage')\n",
    "# open it, go to a website, and get results\n",
    "wd = webdriver.Chrome('chromedriver',options=options)\n",
    "\n"
   ]
  },
  {
   "cell_type": "markdown",
   "metadata": {
    "id": "ZX4OQIsfwwk_"
   },
   "source": [
    "### 2. Find all professors in School of IT and save it as csv. \n",
    "\n",
    "<div class=\"alert alert-block alert-warning\">\n",
    "\n",
    "**Code**: \n",
    "    Find all professors in Schoolf of IT and save it as csv. The csv must have the full name of the professor (in one column), the title of the professor and University Name.\n",
    "</div> "
   ]
  },
  {
   "cell_type": "code",
   "execution_count": 21,
   "metadata": {
    "id": "vII6Na-1xEAh"
   },
   "outputs": [],
   "source": [
    "# here I first define the parsing method, I will need to use this parsing method to format the professor full name and title from the staff page.\n",
    "# the name of the professor from staff page will be split by space and last two words are full name \n",
    "def parse_name(stringtext):\n",
    "  return \" \".join(stringtext.split(\" \")[-2:]),\" \".join(stringtext.split(\" \")[:-2])"
   ]
  },
  {
   "cell_type": "code",
   "execution_count": 22,
   "metadata": {
    "id": "RmLHQyKbxIEL"
   },
   "outputs": [],
   "source": [
    "import pandas as pd\n",
    "# the crawling information will be stored in pandas dataframe and then save as csv\n",
    "# next use the parse_name method to crawl the professor's full name and title\n",
    "# The column name must be same as the provided professor-list.csv\n",
    "\n",
    "wd.get(\"https://www.deakin.edu.au/information-technology/staff-listing\")\n",
    "shapes = wd.find_elements_by_tag_name('table')\n",
    "data = []\n",
    "for table in shapes[:3]:\n",
    "  for tr in table.find_elements_by_tag_name('tr'):\n",
    "    #tds = tr.find_elements_by_tag_name('td')\n",
    "    for td in tr.find_elements_by_tag_name('td'):\n",
    "        for a in td.find_elements_by_tag_name('a'):\n",
    "          data.append(parse_name(a.get_attribute('text')))\n",
    "df = pd.DataFrame(data)\n",
    "df['University'] = 'Deakin University'\n",
    "df.columns = ['Name','Title','University']\n",
    "df.to_csv('Professor_name_list.csv', )"
   ]
  },
  {
   "cell_type": "markdown",
   "metadata": {
    "id": "hwKTqMXaxOpw"
   },
   "source": [
    "## 3. Professor Citation Information Generation\n"
   ]
  },
  {
   "cell_type": "markdown",
   "metadata": {
    "id": "_uk5f1LgxQc7"
   },
   "source": [
    "### 3.1 Search the google scholar for all professors \n",
    "<div class=\"alert alert-block alert-warning\">\n",
    "\n",
    "**Code**: \n",
    "    Search the google scholar for all professors and obtain their citations-all, h-index-all, i10-all, citation-since2016,h-index-2016 and i10-since2016. Save the results as csv with **all the professors name, title and all 6 citation information.**\n",
    "</div> "
   ]
  },
  {
   "cell_type": "code",
   "execution_count": 23,
   "metadata": {
    "id": "YITbe1Owxf2o"
   },
   "outputs": [],
   "source": [
    "# search the google scholar for all professors to obtain their citations_all, h-index_all, i10_all, citation_since2016\n",
    "# h-index-2016 and i10_since2016. Save the results as csv and must having all the professors name, title and all 6 citation information.\n",
    "# if the professors did not have the google scholar profle with the name, save the 6 citation information as string \"na\"\n",
    "# use loops and Conditional Statements to finish this task (eg: while / for, if...), failed to use loop\n",
    "# and conditional statements will occur 0 mark.\n",
    "# The column name must be same as the provided professor-citation-information.csv \n",
    "\n",
    "from time import sleep\n",
    "def fetch_google_scholar_profile(input):\n",
    "  statistics = []\n",
    "  url = str(\"https://scholar.google.com/citations?hl=en&view_op=search_authors&mauthors=\"+input+\"&btnG=\")\n",
    "  wd.get(url)\n",
    "  #sleep(5)\n",
    "  bodyText = wd.find_element_by_tag_name(\"body\").text\n",
    "  if \"didn't match any user profiles\" in bodyText:\n",
    "    statistics.extend(['na', 'na', 'na','na','na','na'])\n",
    "  else:\n",
    "    elems = wd.find_element_by_class_name(\"gs_ai_pho\")\n",
    "    profile_url = elems.get_attribute(\"href\")\n",
    "    wd.get(profile_url)\n",
    "    table = wd.find_element_by_id(\"gsc_rsb_st\")\n",
    "    for td in table.find_elements_by_class_name('gsc_rsb_std'):\n",
    "      #for td in tr.find_elements_by_tag_name('td'):\n",
    "      #  a = td.find_element_by_tag_name('a')\n",
    "      #tds = tr.find_elements_by_class_name('gsc_rsb_std')\n",
    "      statistics.append(td.get_attribute('textContent'))\n",
    "  return statistics"
   ]
  },
  {
   "cell_type": "code",
   "execution_count": 24,
   "metadata": {
    "colab": {
     "base_uri": "https://localhost:8080/"
    },
    "id": "oDwDUuE3oraw",
    "outputId": "64283940-c0ba-43c2-808c-841cb0dd30cc"
   },
   "outputs": [
    {
     "name": "stdout",
     "output_type": "stream",
     "text": [
      "Lynn+Batten+deakin+university\n",
      "finished\n",
      "Andrzej+Goscinski+deakin+university\n",
      "finished\n",
      "Jemal+Abawajy+deakin+university\n",
      "finished\n",
      "Maia+Angelova+deakin+university\n",
      "finished\n",
      "Gleb+Beliakov+deakin+university\n",
      "finished\n",
      "Terry+Caelli+deakin+university\n",
      "finished\n",
      "Jinho+Choi+deakin+university\n",
      "finished\n",
      "Chang-Tsun+Li+deakin+university\n",
      "finished\n",
      "Robin+Doss+deakin+university\n",
      "finished\n",
      "Peter+Eklund+deakin+university\n",
      "finished\n",
      "Seng+Loke+deakin+university\n",
      "finished\n",
      "Antonio+Robles-Kelly+deakin+university\n",
      "finished\n",
      "Jean-Guy+Schneider+deakin+university\n",
      "finished\n",
      "Yong+Xiang+deakin+university\n",
      "finished\n",
      "John+Yearwood+deakin+university\n",
      "finished\n",
      "Arkady+Zaslavsky+deakin+university\n",
      "finished\n",
      "Mohamed+Abdelrazek+deakin+university\n",
      "finished\n",
      "Andrew+Cain+deakin+university\n",
      "finished\n",
      "Richard+Dazeley+deakin+university\n",
      "finished\n",
      "Guangyan+Huang+deakin+university\n",
      "finished\n",
      "Gang+Li+deakin+university\n",
      "finished\n",
      "Jianxin+Li+deakin+university\n",
      "finished\n",
      "Xiao+Liu+deakin+university\n",
      "finished\n",
      "Vicky+Mak+deakin+university\n",
      "finished\n",
      "Tim+Wilkin+deakin+university\n",
      "finished\n"
     ]
    }
   ],
   "source": [
    "citation_info = []\n",
    "for i in range(len(df.Name)):\n",
    "  author = df.Name[i].split(\" \",1)[0]+\"+\"+df.Name[i].split(\" \",1)[1]+\"+deakin+\"+\"university\"\n",
    "  print(author)\n",
    "  citation = fetch_google_scholar_profile(author)\n",
    "  citation.insert(0, df.Title[i])\n",
    "  citation.insert(0, df.Name[i])\n",
    "  citation_info.append(citation)\n",
    "  print('finished')"
   ]
  },
  {
   "cell_type": "code",
   "execution_count": 25,
   "metadata": {
    "id": "qOo_3IrlotPA"
   },
   "outputs": [],
   "source": [
    "import numpy as np\n",
    "df_citation = pd.DataFrame(np.array(citation_info))\n",
    "df_citation.columns = ['Name','Title','citation_all','citation_since2016','h-index_all','h-index_since2016','i10-index_all','i10-index_since2016']\n",
    "df_citation.to_csv('Professor_citation_informaton.csv', )"
   ]
  },
  {
   "cell_type": "markdown",
   "metadata": {
    "id": "7xxoyZvzxgmK"
   },
   "source": [
    "### 3.2 Find out the professor name having the most citations \n",
    "\n",
    "<div class=\"alert alert-block alert-warning\">\n",
    "\n",
    "**Code**: \n",
    "    Find out the professor name having the most citations (remove those professor who does not have google scholar page)"
   ]
  },
  {
   "cell_type": "code",
   "execution_count": 26,
   "metadata": {
    "colab": {
     "base_uri": "https://localhost:8080/",
     "height": 35
    },
    "id": "ay_z3pC8xntr",
    "outputId": "a12770fa-1009-4e55-881b-bf466a58e8bc"
   },
   "outputs": [
    {
     "data": {
      "application/vnd.google.colaboratory.intrinsic+json": {
       "type": "string"
      },
      "text/plain": [
       "'Arkady Zaslavsky'"
      ]
     },
     "execution_count": 26,
     "metadata": {
      "tags": []
     },
     "output_type": "execute_result"
    }
   ],
   "source": [
    "# find out the professor name having the most citations (remove those professor who does not have google scholar page)\n",
    "\n",
    "df_citation = df_citation.replace('na','0')\n",
    "\n",
    "index_max = df_citation.citation_all.astype('float').argmax()\n",
    "df_citation.Name[index_max]"
   ]
  },
  {
   "cell_type": "markdown",
   "metadata": {
    "id": "MTlPxwg5xo_U"
   },
   "source": [
    "### 3.3 Find out the row for associate professor having the most i10-index since 2016 \n",
    "<div class=\"alert alert-block alert-warning\">\n",
    "\n",
    "**Code**: \n",
    "    Find out the row for associate professor having the most i10-index since 2016 (remove those professor who does not have google scholar page)\n"
   ]
  },
  {
   "cell_type": "code",
   "execution_count": 27,
   "metadata": {
    "colab": {
     "base_uri": "https://localhost:8080/"
    },
    "id": "MjpexWtRxwA5",
    "outputId": "48e3f6de-cdfc-4cbd-e6b8-ba45962d5fe4"
   },
   "outputs": [
    {
     "data": {
      "text/plain": [
       "Name                               Gang Li\n",
       "Title                  Associate Professor\n",
       "citation_all                          4168\n",
       "citation_since2016                    2875\n",
       "h-index_all                             28\n",
       "h-index_since2016                       25\n",
       "i10-index_all                           89\n",
       "i10-index_since2016                     63\n",
       "Name: 20, dtype: object"
      ]
     },
     "execution_count": 27,
     "metadata": {
      "tags": []
     },
     "output_type": "execute_result"
    }
   ],
   "source": [
    "# find out the row for associate professor having the most i10_index since 2016 (please remove those professor who does not have google scholar page)\n",
    "filter_index = df_citation[df_citation.Title == 'Associate Professor']\n",
    "index_max = filter_index['i10-index_since2016'].astype('float').argmax()\n",
    "filter_index.iloc[4]"
   ]
  },
  {
   "cell_type": "markdown",
   "metadata": {
    "id": "lsHSp2H9xxRg"
   },
   "source": [
    "### 4.4 Find out all the professors name who has the citations_since2016 > 2500\n",
    "<div class=\"alert alert-block alert-warning\">\n",
    "\n",
    "**Code**: \n",
    "    Find out the row for associate professor having the most i10-index since 2016 (remove those professor who does not have google scholar page)\n"
   ]
  },
  {
   "cell_type": "code",
   "execution_count": 28,
   "metadata": {
    "colab": {
     "base_uri": "https://localhost:8080/"
    },
    "id": "ZD352krRx5Dk",
    "outputId": "08c9eb54-2387-46d9-c198-0174e7b87705"
   },
   "outputs": [
    {
     "data": {
      "text/plain": [
       "4        Gleb Beliakov\n",
       "6           Jinho Choi\n",
       "10           Seng Loke\n",
       "13          Yong Xiang\n",
       "15    Arkady Zaslavsky\n",
       "20             Gang Li\n",
       "Name: Name, dtype: object"
      ]
     },
     "execution_count": 28,
     "metadata": {
      "tags": []
     },
     "output_type": "execute_result"
    }
   ],
   "source": [
    "# find out all the professors name who has the citations_since2016 > 2500\n",
    "df_citation.Name[df_citation['citation_since2016'].astype('float') > 2500]"
   ]
  },
  {
   "cell_type": "code",
   "execution_count": 1,
   "metadata": {},
   "outputs": [
    {
     "name": "stdout",
     "output_type": "stream",
     "text": [
      "Collecting apyori\n",
      "  Downloading apyori-1.1.2.tar.gz (8.6 kB)\n",
      "Building wheels for collected packages: apyori\n",
      "  Building wheel for apyori (setup.py): started\n",
      "  Building wheel for apyori (setup.py): finished with status 'done'\n",
      "  Created wheel for apyori: filename=apyori-1.1.2-py3-none-any.whl size=5979 sha256=c95813860f005ac907e9cddb9d241f41818bda0c98c444498c32b5cebee232cf\n",
      "  Stored in directory: c:\\users\\dell\\appdata\\local\\pip\\cache\\wheels\\1b\\02\\6c\\a45230be8603bd95c0a51cd2b289aefdd860c1a100eab73661\n",
      "Successfully built apyori\n",
      "Installing collected packages: apyori\n",
      "Successfully installed apyori-1.1.2\n"
     ]
    }
   ],
   "source": [
    "!pip install apyori"
   ]
  }
 ],
 "metadata": {
  "colab": {
   "collapsed_sections": [],
   "name": "Solution_SIT742Task1.ipynb",
   "provenance": [],
   "toc_visible": true
  },
  "kernelspec": {
   "display_name": "Python 3 (ipykernel)",
   "language": "python",
   "name": "python3"
  },
  "language_info": {
   "codemirror_mode": {
    "name": "ipython",
    "version": 3
   },
   "file_extension": ".py",
   "mimetype": "text/x-python",
   "name": "python",
   "nbconvert_exporter": "python",
   "pygments_lexer": "ipython3",
   "version": "3.11.5"
  },
  "name": "SampleCode",
  "notebookId": 2691131752868967,
  "widgets": {
   "application/vnd.jupyter.widget-state+json": {
    "24b24da5f3cb4047b8dc95405eec2eb3": {
     "model_module": "@jupyter-widgets/base",
     "model_name": "LayoutModel",
     "state": {
      "_model_module": "@jupyter-widgets/base",
      "_model_module_version": "1.2.0",
      "_model_name": "LayoutModel",
      "_view_count": null,
      "_view_module": "@jupyter-widgets/base",
      "_view_module_version": "1.2.0",
      "_view_name": "LayoutView",
      "align_content": null,
      "align_items": null,
      "align_self": null,
      "border": null,
      "bottom": null,
      "display": null,
      "flex": null,
      "flex_flow": null,
      "grid_area": null,
      "grid_auto_columns": null,
      "grid_auto_flow": null,
      "grid_auto_rows": null,
      "grid_column": null,
      "grid_gap": null,
      "grid_row": null,
      "grid_template_areas": null,
      "grid_template_columns": null,
      "grid_template_rows": null,
      "height": null,
      "justify_content": null,
      "justify_items": null,
      "left": null,
      "margin": null,
      "max_height": null,
      "max_width": null,
      "min_height": null,
      "min_width": null,
      "object_fit": null,
      "object_position": null,
      "order": null,
      "overflow": null,
      "overflow_x": null,
      "overflow_y": null,
      "padding": null,
      "right": null,
      "top": null,
      "visibility": null,
      "width": null
     }
    },
    "8fa22761108a4e0a8099d90652be3715": {
     "model_module": "@jupyter-widgets/controls",
     "model_name": "IntProgressModel",
     "state": {
      "_dom_classes": [],
      "_model_module": "@jupyter-widgets/controls",
      "_model_module_version": "1.5.0",
      "_model_name": "IntProgressModel",
      "_view_count": null,
      "_view_module": "@jupyter-widgets/controls",
      "_view_module_version": "1.5.0",
      "_view_name": "ProgressView",
      "bar_style": "",
      "description": "Loading:",
      "description_tooltip": null,
      "layout": "IPY_MODEL_24b24da5f3cb4047b8dc95405eec2eb3",
      "max": 120,
      "min": 0,
      "orientation": "horizontal",
      "style": "IPY_MODEL_f6b045c4bdad42f7864c78d84f279496",
      "value": 120
     }
    },
    "f6b045c4bdad42f7864c78d84f279496": {
     "model_module": "@jupyter-widgets/controls",
     "model_name": "ProgressStyleModel",
     "state": {
      "_model_module": "@jupyter-widgets/controls",
      "_model_module_version": "1.5.0",
      "_model_name": "ProgressStyleModel",
      "_view_count": null,
      "_view_module": "@jupyter-widgets/base",
      "_view_module_version": "1.2.0",
      "_view_name": "StyleView",
      "bar_color": null,
      "description_width": ""
     }
    }
   }
  }
 },
 "nbformat": 4,
 "nbformat_minor": 1
}
