{
 "cells": [
  {
   "cell_type": "markdown",
   "metadata": {
    "id": "z6Ro64a9KNWs"
   },
   "source": [
    "### Import Libraries"
   ]
  },
  {
   "cell_type": "code",
   "execution_count": null,
   "metadata": {
    "id": "KbiVTxuZrneP"
   },
   "outputs": [],
   "source": [
    "import matplotlib.pyplot as plt\n",
    "import numpy as np\n",
    "import pandas as pd\n",
    "import time\n",
    "import datetime\n",
    "from scipy import stats\n",
    "import matplotlib\n",
    "import csv\n",
    "import re"
   ]
  },
  {
   "cell_type": "markdown",
   "metadata": {
    "id": "REp-ATy8gGyS"
   },
   "source": [
    "## 1.Crawl Gang Li citation information from 2003 to 2021"
   ]
  },
  {
   "cell_type": "markdown",
   "metadata": {
    "id": "99Y04DfvFMGO"
   },
   "source": [
    " <div class=\"alert alert-block alert-info\">\n",
    "\n",
    "**Code**: <br>\n",
    "    The code to generate the csv for Gang Li's citation from 2003 to 2021\n",
    "</div>"
   ]
  },
  {
   "cell_type": "code",
   "execution_count": null,
   "metadata": {
    "colab": {
     "base_uri": "https://localhost:8080/",
     "height": 617
    },
    "id": "WpyNYt7B7_V8",
    "outputId": "f94f329f-b76f-4e13-dadf-b1f9f1b2dac2"
   },
   "outputs": [
    {
     "data": {
      "text/html": [
       "<div>\n",
       "<style scoped>\n",
       "    .dataframe tbody tr th:only-of-type {\n",
       "        vertical-align: middle;\n",
       "    }\n",
       "\n",
       "    .dataframe tbody tr th {\n",
       "        vertical-align: top;\n",
       "    }\n",
       "\n",
       "    .dataframe thead th {\n",
       "        text-align: right;\n",
       "    }\n",
       "</style>\n",
       "<table border=\"1\" class=\"dataframe\">\n",
       "  <thead>\n",
       "    <tr style=\"text-align: right;\">\n",
       "      <th></th>\n",
       "      <th>year</th>\n",
       "      <th>Citation</th>\n",
       "    </tr>\n",
       "  </thead>\n",
       "  <tbody>\n",
       "    <tr>\n",
       "      <th>0</th>\n",
       "      <td>2003</td>\n",
       "      <td>15</td>\n",
       "    </tr>\n",
       "    <tr>\n",
       "      <th>1</th>\n",
       "      <td>2004</td>\n",
       "      <td>34</td>\n",
       "    </tr>\n",
       "    <tr>\n",
       "      <th>2</th>\n",
       "      <td>2005</td>\n",
       "      <td>17</td>\n",
       "    </tr>\n",
       "    <tr>\n",
       "      <th>3</th>\n",
       "      <td>2006</td>\n",
       "      <td>11</td>\n",
       "    </tr>\n",
       "    <tr>\n",
       "      <th>4</th>\n",
       "      <td>2007</td>\n",
       "      <td>33</td>\n",
       "    </tr>\n",
       "    <tr>\n",
       "      <th>5</th>\n",
       "      <td>2008</td>\n",
       "      <td>41</td>\n",
       "    </tr>\n",
       "    <tr>\n",
       "      <th>6</th>\n",
       "      <td>2009</td>\n",
       "      <td>57</td>\n",
       "    </tr>\n",
       "    <tr>\n",
       "      <th>7</th>\n",
       "      <td>2010</td>\n",
       "      <td>68</td>\n",
       "    </tr>\n",
       "    <tr>\n",
       "      <th>8</th>\n",
       "      <td>2011</td>\n",
       "      <td>105</td>\n",
       "    </tr>\n",
       "    <tr>\n",
       "      <th>9</th>\n",
       "      <td>2012</td>\n",
       "      <td>131</td>\n",
       "    </tr>\n",
       "    <tr>\n",
       "      <th>10</th>\n",
       "      <td>2013</td>\n",
       "      <td>170</td>\n",
       "    </tr>\n",
       "    <tr>\n",
       "      <th>11</th>\n",
       "      <td>2014</td>\n",
       "      <td>251</td>\n",
       "    </tr>\n",
       "    <tr>\n",
       "      <th>12</th>\n",
       "      <td>2015</td>\n",
       "      <td>290</td>\n",
       "    </tr>\n",
       "    <tr>\n",
       "      <th>13</th>\n",
       "      <td>2016</td>\n",
       "      <td>340</td>\n",
       "    </tr>\n",
       "    <tr>\n",
       "      <th>14</th>\n",
       "      <td>2017</td>\n",
       "      <td>385</td>\n",
       "    </tr>\n",
       "    <tr>\n",
       "      <th>15</th>\n",
       "      <td>2018</td>\n",
       "      <td>452</td>\n",
       "    </tr>\n",
       "    <tr>\n",
       "      <th>16</th>\n",
       "      <td>2019</td>\n",
       "      <td>583</td>\n",
       "    </tr>\n",
       "    <tr>\n",
       "      <th>17</th>\n",
       "      <td>2020</td>\n",
       "      <td>842</td>\n",
       "    </tr>\n",
       "    <tr>\n",
       "      <th>18</th>\n",
       "      <td>2021</td>\n",
       "      <td>322</td>\n",
       "    </tr>\n",
       "  </tbody>\n",
       "</table>\n",
       "</div>"
      ],
      "text/plain": [
       "    year Citation\n",
       "0   2003       15\n",
       "1   2004       34\n",
       "2   2005       17\n",
       "3   2006       11\n",
       "4   2007       33\n",
       "5   2008       41\n",
       "6   2009       57\n",
       "7   2010       68\n",
       "8   2011      105\n",
       "9   2012      131\n",
       "10  2013      170\n",
       "11  2014      251\n",
       "12  2015      290\n",
       "13  2016      340\n",
       "14  2017      385\n",
       "15  2018      452\n",
       "16  2019      583\n",
       "17  2020      842\n",
       "18  2021      322"
      ]
     },
     "execution_count": 17,
     "metadata": {
      "tags": []
     },
     "output_type": "execute_result"
    }
   ],
   "source": [
    "#import pandas as pd\n",
    "#create_df = pd.DataFrame()\n",
    "import sys\n",
    "import pandas as pd\n",
    "if sys.version_info[0] == 3:\n",
    "    from urllib.request import urlopen, Request\n",
    "else:\n",
    "    from urllib import urlopen, Request\n",
    "from bs4 import BeautifulSoup\n",
    "\n",
    "url = 'https://scholar.google.com/citations?user=dqwjm-0AAAAJ#d=gsc_md_hist'\n",
    "req = Request(url, headers = { 'User-Agent': 'Mozilla/5.0' })\n",
    "\n",
    "web_byte = urlopen(req).read()\n",
    "web_page = web_byte.decode('utf-8') # latin-1\n",
    "\n",
    "soup = BeautifulSoup(web_page, 'lxml')\n",
    "chart = soup.find('div', class_='gsc_md_hist_b')\n",
    "html_years = chart.find_all('span', class_=\"gsc_g_t\")\n",
    "html_citations = chart.find_all('span', class_=\"gsc_g_al\")\n",
    "years = []\n",
    "n_citations = []\n",
    "\n",
    "for html_year in html_years:\n",
    "  year = html_year.get_text()\n",
    "  years.append(year)\n",
    "\n",
    "for html_citation in html_citations:\n",
    "  citation = html_citation.get_text()\n",
    "  n_citations.append(citation)\n",
    "\n",
    "data = {\n",
    "    \"year\": years,\n",
    "    \"Citation\": n_citations\n",
    "}\n",
    "create_df = pd.DataFrame(data)\n",
    "create_df.to_csv(\"Citation2003-2021.csv\", index=False)\n",
    "create_df"
   ]
  },
  {
   "cell_type": "markdown",
   "metadata": {
    "id": "mDs8ETNWII8b"
   },
   "source": [
    "## 2.Train Arima to predict the 2018 to 2020 citation"
   ]
  },
  {
   "cell_type": "markdown",
   "metadata": {
    "id": "mtKVVs6wGXwc"
   },
   "source": [
    "### 2.1 Train Arima Model\n",
    " <div class=\"alert alert-block alert-info\">\n",
    "\n",
    "**Code**: <br>\n",
    "    create_df and then perform the\n",
    "Arima training with parameter of $p=1$, $q=1$ and $d=1$ on data from 2003 to 2017 (15 years)\n",
    "</div>"
   ]
  },
  {
   "cell_type": "code",
   "execution_count": null,
   "metadata": {
    "colab": {
     "base_uri": "https://localhost:8080/"
    },
    "id": "gBTQhVvDbFSh",
    "outputId": "7b828ab3-4a5b-4c8b-de8d-cb0658c8aaf6"
   },
   "outputs": [
    {
     "name": "stdout",
     "output_type": "stream",
     "text": [
      "Requirement already satisfied: statsmodels==0.11.1 in /usr/local/lib/python3.7/dist-packages (0.11.1)\n",
      "Requirement already satisfied: pandas>=0.21 in /usr/local/lib/python3.7/dist-packages (from statsmodels==0.11.1) (1.1.5)\n",
      "Requirement already satisfied: scipy>=1.0 in /usr/local/lib/python3.7/dist-packages (from statsmodels==0.11.1) (1.4.1)\n",
      "Requirement already satisfied: patsy>=0.5 in /usr/local/lib/python3.7/dist-packages (from statsmodels==0.11.1) (0.5.1)\n",
      "Requirement already satisfied: numpy>=1.14 in /usr/local/lib/python3.7/dist-packages (from statsmodels==0.11.1) (1.19.5)\n",
      "Requirement already satisfied: python-dateutil>=2.7.3 in /usr/local/lib/python3.7/dist-packages (from pandas>=0.21->statsmodels==0.11.1) (2.8.1)\n",
      "Requirement already satisfied: pytz>=2017.2 in /usr/local/lib/python3.7/dist-packages (from pandas>=0.21->statsmodels==0.11.1) (2018.9)\n",
      "Requirement already satisfied: six in /usr/local/lib/python3.7/dist-packages (from patsy>=0.5->statsmodels==0.11.1) (1.15.0)\n"
     ]
    }
   ],
   "source": [
    "!pip install \"statsmodels==0.11.1\""
   ]
  },
  {
   "cell_type": "code",
   "execution_count": null,
   "metadata": {
    "colab": {
     "base_uri": "https://localhost:8080/"
    },
    "id": "5azaduXOGd5_",
    "outputId": "0794d7c8-e388-44d8-da48-52c41616fc7b"
   },
   "outputs": [
    {
     "name": "stdout",
     "output_type": "stream",
     "text": [
      "Expected: 427.300\n",
      "Forecast: 452.000\n",
      "Standard Error: 20.043\n",
      "                               SARIMAX Results                                \n",
      "==============================================================================\n",
      "Dep. Variable:                      y   No. Observations:                   15\n",
      "Model:                 ARIMA(1, 1, 1)   Log Likelihood                 -62.512\n",
      "Date:                Sat, 22 May 2021   AIC                            131.024\n",
      "Time:                        05:48:06   BIC                            132.941\n",
      "Sample:                             0   HQIC                           130.846\n",
      "                                 - 15                                         \n",
      "Covariance Type:                  opg                                         \n",
      "==============================================================================\n",
      "                 coef    std err          z      P>|z|      [0.025      0.975]\n",
      "------------------------------------------------------------------------------\n",
      "ar.L1          0.9480      0.254      3.737      0.000       0.451       1.445\n",
      "ma.L1         -0.4727      0.697     -0.678      0.498      -1.839       0.894\n",
      "sigma2       401.7334    157.222      2.555      0.011      93.584     709.882\n",
      "===================================================================================\n",
      "Ljung-Box (Q):                       11.90   Jarque-Bera (JB):                 0.67\n",
      "Prob(Q):                              0.54   Prob(JB):                         0.71\n",
      "Heteroskedasticity (H):               1.84   Skew:                             0.42\n",
      "Prob(H) (two-sided):                  0.52   Kurtosis:                         3.68\n",
      "===================================================================================\n",
      "\n",
      "Warnings:\n",
      "[1] Covariance matrix calculated using the outer product of gradients (complex-step).\n"
     ]
    },
    {
     "name": "stderr",
     "output_type": "stream",
     "text": [
      "/usr/local/lib/python3.7/dist-packages/statsmodels/tsa/statespace/sarimax.py:963: UserWarning: Non-stationary starting autoregressive parameters found. Using zeros as starting parameters.\n",
      "  warn('Non-stationary starting autoregressive parameters'\n"
     ]
    }
   ],
   "source": [
    "# create_df to split the data into train (year 2003 to 2017) and test\n",
    "from pandas import read_csv\n",
    "from statsmodels.tsa.arima.model import ARIMA\n",
    "\n",
    "# Get years\n",
    "data = \"Citation2003-2021.csv\"\n",
    "years = list(years)\n",
    "\n",
    "# Load dataset and transform to series\n",
    "series = read_csv(data, header=0, index_col=0, parse_dates=True, squeeze=True)\n",
    "X = series.values\n",
    "X = X.astype('float32')\n",
    "size = len(X) - 4\n",
    "train, test = X[0:size], X[size:(len(X) - 1)]\n",
    "\n",
    "# fit an ARIMA model\n",
    "model = ARIMA(train, order=(1,1,1))\n",
    "model_fit = model.fit()\n",
    "\n",
    "# forecast\n",
    "result = model_fit.get_forecast()\n",
    "\n",
    "# summarize forecast\n",
    "print('Expected: %.3f' % result.predicted_mean)\n",
    "print('Forecast: %.3f' % test[0])\n",
    "print('Standard Error: %.3f' % result.se_mean)\n",
    "print(model_fit.summary())\n"
   ]
  },
  {
   "cell_type": "markdown",
   "metadata": {
    "id": "iomydVFJGdFQ"
   },
   "source": [
    "### 2.2 Predicting the citation and Calculate the RMSE\n",
    " <div class=\"alert alert-block alert-info\">\n",
    "\n",
    "**Code**: <br>\n",
    "    Use the trained Arime model to predict the citation on year 2018, 2019 and 2020.\n",
    "I also perform the evaluation by comparing the predicted citation from 2018 to 2020 with \n",
    "the true citation from 2018 to 2020 and calculate the RMSE (root mean square error).\n",
    "</div>"
   ]
  },
  {
   "cell_type": "code",
   "execution_count": null,
   "metadata": {
    "colab": {
     "base_uri": "https://localhost:8080/"
    },
    "id": "5cqMwQw2Gqh1",
    "outputId": "504c0fd6-e60c-483e-a5a6-8078a0fee016"
   },
   "outputs": [
    {
     "name": "stdout",
     "output_type": "stream",
     "text": [
      "* 2018\n",
      "predicted=427.299935, expected=452.000000\n",
      "95% Interval: 388.016 to 466.584\n",
      "\n",
      "* 2019\n",
      "predicted=505.181945, expected=583.000000\n",
      "95% Interval: 465.751 to 544.613\n",
      "\n",
      "* 2020\n",
      "predicted=682.932554, expected=842.000000\n",
      "95% Interval: 629.859 to 736.006\n",
      "\n"
     ]
    },
    {
     "name": "stderr",
     "output_type": "stream",
     "text": [
      "/usr/local/lib/python3.7/dist-packages/statsmodels/tsa/statespace/sarimax.py:963: UserWarning: Non-stationary starting autoregressive parameters found. Using zeros as starting parameters.\n",
      "  warn('Non-stationary starting autoregressive parameters'\n"
     ]
    }
   ],
   "source": [
    "# predict the citation and save it to variable preds. print the output of the confidence interval(95%) here as well\n",
    "size = len(X) - 4\n",
    "predictions = []\n",
    "test = []\n",
    "train, test = X[0:size], X[size:len(X) - 1]\n",
    "history = [x for x in train]\n",
    "predictions = list()\n",
    "confidence_intervals = []\n",
    "years_for_prediction = [\"2018\", \"2019\", \"2020\"]\n",
    "\n",
    "# walk-forward validation\n",
    "for t in range(len(test)):\n",
    "    model = ARIMA(history, order=(1,1,1))\n",
    "    model_fit = model.fit()\n",
    "    output = model_fit.get_forecast()\n",
    "    yhat = output.predicted_mean\n",
    "    predictions.append(yhat)\n",
    "    obs = test[t]\n",
    "    history.append(obs)\n",
    "    print(\"* %s\" % (years_for_prediction[t]))\n",
    "    print('predicted=%f, expected=%f' % (yhat, obs))\n",
    "    ci = output.conf_int(0.05)\n",
    "    confidence_intervals.append(ci[0])\n",
    "    print('95%% Interval: %.3f to %.3f\\n' % (ci[0,0], ci[0,1]))\n"
   ]
  },
  {
   "cell_type": "code",
   "execution_count": null,
   "metadata": {
    "colab": {
     "base_uri": "https://localhost:8080/"
    },
    "id": "Mq1fAKXTIdU4",
    "outputId": "d1689e52-4490-40a8-cb86-b4936ea1f4a6"
   },
   "outputs": [
    {
     "name": "stdout",
     "output_type": "stream",
     "text": [
      "Test RMSE: 103.228\n"
     ]
    }
   ],
   "source": [
    "# Print the error below by comparing the test and preds:\n",
    "from sklearn.metrics import mean_squared_error\n",
    "import matplotlib.pyplot as plt\n",
    "import numpy as np\n",
    "from math import sqrt\n",
    "\n",
    "# show the performance RMSE\n",
    "rmse = sqrt(mean_squared_error(test, predictions))\n",
    "print ('Test RMSE: %.3f' % rmse)"
   ]
  },
  {
   "cell_type": "markdown",
   "metadata": {
    "id": "Q7k3Savqewxg"
   },
   "source": [
    "### 2.3 Draw the visualization to compare"
   ]
  },
  {
   "cell_type": "markdown",
   "metadata": {
    "id": "JC5xseYSH7ze"
   },
   "source": [
    " <div class=\"alert alert-block alert-info\">\n",
    "\n",
    "**Code**: <br>\n",
    "   Use matplotlib to draw the line plot with training data from 2013 to 2017,\n",
    "the testing truth, the prediction and also the confidence interval (95%). \n",
    "</div>"
   ]
  },
  {
   "cell_type": "code",
   "execution_count": null,
   "metadata": {
    "colab": {
     "base_uri": "https://localhost:8080/",
     "height": 407
    },
    "id": "DcsJIrOXItA5",
    "outputId": "c74a76d7-35bf-47fd-b58b-8abda4938ac0"
   },
   "outputs": [
    {
     "data": {
      "text/plain": [
       "[]"
      ]
     },
     "execution_count": 23,
     "metadata": {
      "tags": []
     },
     "output_type": "execute_result"
    },
    {
     "data": {
      "image/png": "[encoded data removed]",
      "text/plain": [
       "<Figure size 720x432 with 1 Axes>"
      ]
     },
     "metadata": {
      "needs_background": "light",
      "tags": []
     },
     "output_type": "display_data"
    }
   ],
   "source": [
    "# Visualize as required, the prediction with its confidence interval\n",
    "from matplotlib import pyplot as plt\n",
    "import matplotlib.ticker\n",
    "# x-axis\n",
    "training_data_years = years[0:size+1]\n",
    "testing_data_years = years[size:(len(X) - 1)]\n",
    "x = len(training_data_years) + len(testing_data_years) - 1\n",
    "x_range = list(range(x))\n",
    "training_data_x_range = x_range[0:len(training_data_years)]\n",
    "testing_data_x_range = x_range[len(training_data_years)-1:]\n",
    "\n",
    "# y-axis\n",
    "train_y_data = X[0:size+1]\n",
    "test_y_data = list(test)\n",
    "\n",
    "# Plot\n",
    "fig, ax = plt.subplots(figsize=(10,6))\n",
    "\n",
    "\n",
    "ax.plot(training_data_x_range, train_y_data, color=\"green\", label=\"Traning Data\")\n",
    "ax.plot(testing_data_x_range, test_y_data, color=\"blue\", label=\"Testing Data\")\n",
    "ax.plot(testing_data_x_range, predictions, color=\"red\", label=\"Prediction\")\n",
    "ax.fill_between(testing_data_x_range,\n",
    "                np.array(confidence_intervals)[:,0], np.array(confidence_intervals)[:,1],\n",
    "                alpha=0.1, color='b', label=\"Confidence Interval\")\n",
    "\n",
    "# Customization\n",
    "ax.legend(fontsize=12)\n",
    "ax.set_xlabel(\"Year\", size=\"12\")\n",
    "ax.set_xticks(np.arange(0, len(x_range)+1, 1))\n",
    "ax.set_xticklabels(years[:-1], {\"fontsize\": 10})\n",
    "plt.plot()"
   ]
  },
  {
   "cell_type": "markdown",
   "metadata": {
    "id": "4Qhi7QJhPenf"
   },
   "source": [
    "## 3.Conduct the Grid Search with paramter selection and then predict the 2021 and 2022"
   ]
  },
  {
   "cell_type": "markdown",
   "metadata": {
    "id": "ie6-3EY_IdT3"
   },
   "source": [
    "### 7.1 Grid Search\n",
    " <div class=\"alert alert-block alert-info\">\n",
    "\n",
    "**Code**: \n",
    " Run the grid search for parameter $p=[1,2]$, \n",
    "$q=[1,2]$,\n",
    "$d=[1,2]$\n",
    "with training data on year 2003 to 2017 and testing data on 2018 to 2020\n",
    "The result of the search on each paratemer combination (eg: p=1,q=1,d=1)\n",
    "will need to be stored in the \"search-results.csv\",\n",
    "The search-results.csv will have the column of \"RMSE\" and column \"PARAMETER\".\n",
    "</div>"
   ]
  },
  {
   "cell_type": "code",
   "execution_count": null,
   "metadata": {
    "colab": {
     "base_uri": "https://localhost:8080/"
    },
    "id": "9l3SYph7Psk3",
    "outputId": "d5666cea-2707-4845-8a24-31548bffdc2b"
   },
   "outputs": [
    {
     "name": "stderr",
     "output_type": "stream",
     "text": [
      "/usr/local/lib/python3.7/dist-packages/ipykernel_launcher.py:8: FutureWarning: The pandas.datetime class is deprecated and will be removed from pandas in a future version. Import from datetime module instead.\n",
      "  \n",
      "/usr/local/lib/python3.7/dist-packages/statsmodels/tsa/statespace/sarimax.py:963: UserWarning: Non-stationary starting autoregressive parameters found. Using zeros as starting parameters.\n",
      "  warn('Non-stationary starting autoregressive parameters'\n",
      "/usr/local/lib/python3.7/dist-packages/statsmodels/tsa/statespace/sarimax.py:963: UserWarning: Non-stationary starting autoregressive parameters found. Using zeros as starting parameters.\n",
      "  warn('Non-stationary starting autoregressive parameters'\n"
     ]
    },
    {
     "name": "stdout",
     "output_type": "stream",
     "text": [
      "* p=1, d=1, q=1\n",
      "predicted=427.299935, expected=452.000000\n",
      "predicted=505.181945, expected=583.000000\n",
      "predicted=682.932554, expected=842.000000\n",
      "Test RMSE: 103.228\n",
      "\n",
      "* p=1, d=1, q=2\n",
      "predicted=426.674396, expected=452.000000\n",
      "predicted=496.610744, expected=583.000000\n",
      "predicted=686.570258, expected=842.000000\n"
     ]
    },
    {
     "name": "stderr",
     "output_type": "stream",
     "text": [
      "/usr/local/lib/python3.7/dist-packages/statsmodels/tsa/statespace/sarimax.py:975: UserWarning: Non-invertible starting MA parameters found. Using zeros as starting parameters.\n",
      "  warn('Non-invertible starting MA parameters found.'\n"
     ]
    },
    {
     "name": "stdout",
     "output_type": "stream",
     "text": [
      "Test RMSE: 103.703\n",
      "\n",
      "* p=1, d=2, q=1\n",
      "predicted=432.527310, expected=452.000000\n",
      "predicted=506.746386, expected=583.000000\n",
      "predicted=692.309049, expected=842.000000\n",
      "Test RMSE: 97.641\n",
      "\n",
      "* p=1, d=2, q=2\n",
      "predicted=441.377019, expected=452.000000\n",
      "predicted=520.599055, expected=583.000000\n"
     ]
    },
    {
     "name": "stderr",
     "output_type": "stream",
     "text": [
      "/usr/local/lib/python3.7/dist-packages/statsmodels/tsa/statespace/sarimax.py:963: UserWarning: Non-stationary starting autoregressive parameters found. Using zeros as starting parameters.\n",
      "  warn('Non-stationary starting autoregressive parameters'\n",
      "/usr/local/lib/python3.7/dist-packages/statsmodels/tsa/statespace/sarimax.py:975: UserWarning: Non-invertible starting MA parameters found. Using zeros as starting parameters.\n",
      "  warn('Non-invertible starting MA parameters found.'\n",
      "/usr/local/lib/python3.7/dist-packages/statsmodels/tsa/statespace/sarimax.py:963: UserWarning: Non-stationary starting autoregressive parameters found. Using zeros as starting parameters.\n",
      "  warn('Non-stationary starting autoregressive parameters'\n"
     ]
    },
    {
     "name": "stdout",
     "output_type": "stream",
     "text": [
      "predicted=691.282967, expected=842.000000\n",
      "Test RMSE: 94.379\n",
      "\n",
      "* p=2, d=1, q=1\n",
      "predicted=427.740894, expected=452.000000\n",
      "predicted=502.910867, expected=583.000000\n"
     ]
    },
    {
     "name": "stderr",
     "output_type": "stream",
     "text": [
      "/usr/local/lib/python3.7/dist-packages/statsmodels/tsa/statespace/sarimax.py:975: UserWarning: Non-invertible starting MA parameters found. Using zeros as starting parameters.\n",
      "  warn('Non-invertible starting MA parameters found.'\n",
      "/usr/local/lib/python3.7/dist-packages/statsmodels/tsa/statespace/sarimax.py:963: UserWarning: Non-stationary starting autoregressive parameters found. Using zeros as starting parameters.\n",
      "  warn('Non-stationary starting autoregressive parameters'\n"
     ]
    },
    {
     "name": "stdout",
     "output_type": "stream",
     "text": [
      "predicted=704.464130, expected=842.000000\n",
      "Test RMSE: 92.950\n",
      "\n",
      "* p=2, d=1, q=2\n",
      "predicted=436.471959, expected=452.000000\n"
     ]
    },
    {
     "name": "stderr",
     "output_type": "stream",
     "text": [
      "/usr/local/lib/python3.7/dist-packages/statsmodels/base/model.py:568: ConvergenceWarning: Maximum Likelihood optimization failed to converge. Check mle_retvals\n",
      "  \"Check mle_retvals\", ConvergenceWarning)\n",
      "/usr/local/lib/python3.7/dist-packages/statsmodels/tsa/statespace/sarimax.py:975: UserWarning: Non-invertible starting MA parameters found. Using zeros as starting parameters.\n",
      "  warn('Non-invertible starting MA parameters found.'\n"
     ]
    },
    {
     "name": "stdout",
     "output_type": "stream",
     "text": [
      "predicted=501.116477, expected=583.000000\n",
      "predicted=684.975820, expected=842.000000\n",
      "Test RMSE: 102.636\n",
      "\n",
      "* p=2, d=2, q=1\n",
      "predicted=415.757531, expected=452.000000\n",
      "predicted=506.543661, expected=583.000000\n",
      "predicted=678.621317, expected=842.000000\n",
      "Test RMSE: 106.226\n",
      "\n",
      "* p=2, d=2, q=2\n",
      "predicted=421.449300, expected=452.000000\n"
     ]
    },
    {
     "name": "stderr",
     "output_type": "stream",
     "text": [
      "/usr/local/lib/python3.7/dist-packages/statsmodels/tsa/statespace/sarimax.py:963: UserWarning: Non-stationary starting autoregressive parameters found. Using zeros as starting parameters.\n",
      "  warn('Non-stationary starting autoregressive parameters'\n",
      "/usr/local/lib/python3.7/dist-packages/statsmodels/tsa/statespace/sarimax.py:975: UserWarning: Non-invertible starting MA parameters found. Using zeros as starting parameters.\n",
      "  warn('Non-invertible starting MA parameters found.'\n"
     ]
    },
    {
     "name": "stdout",
     "output_type": "stream",
     "text": [
      "predicted=509.110962, expected=583.000000\n",
      "predicted=680.043916, expected=842.000000\n",
      "Test RMSE: 104.280\n",
      "\n"
     ]
    },
    {
     "name": "stderr",
     "output_type": "stream",
     "text": [
      "/usr/local/lib/python3.7/dist-packages/statsmodels/base/model.py:568: ConvergenceWarning: Maximum Likelihood optimization failed to converge. Check mle_retvals\n",
      "  \"Check mle_retvals\", ConvergenceWarning)\n",
      "/usr/local/lib/python3.7/dist-packages/statsmodels/base/model.py:568: ConvergenceWarning: Maximum Likelihood optimization failed to converge. Check mle_retvals\n",
      "  \"Check mle_retvals\", ConvergenceWarning)\n"
     ]
    }
   ],
   "source": [
    "#p = list(range(1,3))\n",
    "#q = list(range(1,3))\n",
    "#d = list(range(1,3))\n",
    "#RMSE = []\n",
    "#PARAMETER = []\n",
    "from pandas import read_csv\n",
    "from pandas import datetime\n",
    "from matplotlib import pyplot\n",
    "from statsmodels.tsa.arima.model import ARIMA\n",
    "from sklearn.metrics import mean_squared_error\n",
    "from math import sqrt\n",
    "\n",
    "# Load dataset and transform to series\n",
    "data = \"Citation2003-2021.csv\"\n",
    "series = read_csv(data, header=0, index_col=0, parse_dates=True, squeeze=True)\n",
    "X = series.values\n",
    "X = X.astype('float32')\n",
    "size = len(X) - 4\n",
    "train, test = X[0:size], X[size:(len(X) - 1)]\n",
    "history = [x for x in train]\n",
    "p = list(range(1,3))\n",
    "q = list(range(1,3))\n",
    "d = list(range(1,3))\n",
    "predictions = list()\n",
    "RMSE = []\n",
    "PARAMETER = []\n",
    "\n",
    "# walk-forward validation\n",
    "min_rmse = float('inf')\n",
    "chosen_paramters = []\n",
    "\n",
    "for i1 in p:\n",
    "  for i2 in d:\n",
    "    for i3 in q:\n",
    "      print('* p=%s, d=%s, q=%s' % (i1, i2, i3))\n",
    "      PARAMETER.append('p=%s d=%s q=%s' % (i1, i2, i3))\n",
    "      for t in range(len(test)):\n",
    "        model = ARIMA(history, order=(i1, i2, i3))\n",
    "        model_fit = model.fit()\n",
    "        output = model_fit.forecast()\n",
    "        yhat = output[0]\n",
    "        predictions.append(yhat)\n",
    "        obs = test[t]\n",
    "        history.append(obs)\n",
    "        print('predicted=%f, expected=%f' % (yhat, obs))\n",
    "      \n",
    "      rmse = sqrt(mean_squared_error(test, predictions))\n",
    "      if rmse <= min_rmse: \n",
    "        min_rmse = rmse\n",
    "        chosen_paramters = [i1, i2, i3]\n",
    "\n",
    "      history = [x for x in train]\n",
    "      predictions = list()\n",
    "      RMSE.append(rmse)\n",
    "      print('Test RMSE: %.3f\\n' % rmse)\n",
    "\n",
    "\n"
   ]
  },
  {
   "cell_type": "code",
   "execution_count": null,
   "metadata": {
    "colab": {
     "base_uri": "https://localhost:8080/",
     "height": 377
    },
    "id": "gax9Nx6zQ7hH",
    "outputId": "a22b9159-635f-462f-9ae7-947c2ab43de5"
   },
   "outputs": [
    {
     "name": "stdout",
     "output_type": "stream",
     "text": [
      "         RMSE    Parameter\n",
      "0  103.228218  p=1 d=1 q=1\n",
      "1  103.702932  p=1 d=1 q=2\n",
      "2   97.640804  p=1 d=2 q=1\n",
      "3   94.379288  p=1 d=2 q=2\n",
      "4   92.949608  p=2 d=1 q=1\n",
      "5  102.636291  p=2 d=1 q=2\n",
      "6  106.225676  p=2 d=2 q=1\n",
      "7  104.279605  p=2 d=2 q=2\n"
     ]
    },
    {
     "data": {
      "text/html": [
       "<div>\n",
       "<style scoped>\n",
       "    .dataframe tbody tr th:only-of-type {\n",
       "        vertical-align: middle;\n",
       "    }\n",
       "\n",
       "    .dataframe tbody tr th {\n",
       "        vertical-align: top;\n",
       "    }\n",
       "\n",
       "    .dataframe thead th {\n",
       "        text-align: right;\n",
       "    }\n",
       "</style>\n",
       "<table border=\"1\" class=\"dataframe\">\n",
       "  <thead>\n",
       "    <tr style=\"text-align: right;\">\n",
       "      <th></th>\n",
       "      <th>RMSE</th>\n",
       "      <th>Parameter</th>\n",
       "    </tr>\n",
       "  </thead>\n",
       "  <tbody>\n",
       "    <tr>\n",
       "      <th>0</th>\n",
       "      <td>103.228218</td>\n",
       "      <td>p=1 d=1 q=1</td>\n",
       "    </tr>\n",
       "    <tr>\n",
       "      <th>1</th>\n",
       "      <td>103.702932</td>\n",
       "      <td>p=1 d=1 q=2</td>\n",
       "    </tr>\n",
       "    <tr>\n",
       "      <th>2</th>\n",
       "      <td>97.640804</td>\n",
       "      <td>p=1 d=2 q=1</td>\n",
       "    </tr>\n",
       "    <tr>\n",
       "      <th>3</th>\n",
       "      <td>94.379288</td>\n",
       "      <td>p=1 d=2 q=2</td>\n",
       "    </tr>\n",
       "    <tr>\n",
       "      <th>4</th>\n",
       "      <td>92.949608</td>\n",
       "      <td>p=2 d=1 q=1</td>\n",
       "    </tr>\n",
       "    <tr>\n",
       "      <th>5</th>\n",
       "      <td>102.636291</td>\n",
       "      <td>p=2 d=1 q=2</td>\n",
       "    </tr>\n",
       "  </tbody>\n",
       "</table>\n",
       "</div>"
      ],
      "text/plain": [
       "         RMSE    Parameter\n",
       "0  103.228218  p=1 d=1 q=1\n",
       "1  103.702932  p=1 d=1 q=2\n",
       "2   97.640804  p=1 d=2 q=1\n",
       "3   94.379288  p=1 d=2 q=2\n",
       "4   92.949608  p=2 d=1 q=1\n",
       "5  102.636291  p=2 d=1 q=2"
      ]
     },
     "execution_count": 26,
     "metadata": {
      "tags": []
     },
     "output_type": "execute_result"
    }
   ],
   "source": [
    "# Generate the seach-results.csv and print the top 6 rows\n",
    "#Results = pd.DataFrame({'RMSE':RMSE,'Parameter':PARAMETER})\n",
    "#Results.head(6)\n",
    "Results = pd.DataFrame({'RMSE': RMSE,'Parameter': PARAMETER})\n",
    "Results.to_csv(\"seach-results.csv\", index=False)\n",
    "print(Results)\n",
    "Results.head(6)"
   ]
  },
  {
   "cell_type": "markdown",
   "metadata": {
    "id": "CTey6Y9ER0rE"
   },
   "source": [
    "### 3.2 TRAIN With Best Parameter Set with data up to 2020 and Predict the 2021 and 2022"
   ]
  },
  {
   "cell_type": "markdown",
   "metadata": {
    "id": "skoPt98jJTro"
   },
   "source": [
    "<div class=\"alert alert-block alert-info\">\n",
    "\n",
    "**Code**: <br>\n",
    "  Perform the training with Arima on data from 2003 to 2020 with best parameter that have found,\n",
    "and then conduct the prediction for year 2021 and 2022.\n",
    "</div>"
   ]
  },
  {
   "cell_type": "code",
   "execution_count": null,
   "metadata": {
    "colab": {
     "base_uri": "https://localhost:8080/"
    },
    "id": "RKSwlnWRRzQ3",
    "outputId": "b9c3b76f-12d9-4e01-af56-ea5e36e07e3e"
   },
   "outputs": [
    {
     "name": "stdout",
     "output_type": "stream",
     "text": [
      "* 2021\n",
      "predicted=1151.503\n",
      "95% Interval: 1075.843 to 1227.163\n",
      "* 2022\n",
      "predicted=1477.645\n",
      "95% Interval: 1280.076 to 1675.213\n"
     ]
    },
    {
     "name": "stderr",
     "output_type": "stream",
     "text": [
      "/usr/local/lib/python3.7/dist-packages/statsmodels/tsa/statespace/sarimax.py:963: UserWarning: Non-stationary starting autoregressive parameters found. Using zeros as starting parameters.\n",
      "  warn('Non-stationary starting autoregressive parameters'\n"
     ]
    }
   ],
   "source": [
    "#train = create_df.citation_all.values[:-1]\n",
    "import numpy as np\n",
    "\n",
    "data = \"Citation2003-2021.csv\"\n",
    "series = read_csv(data, header=0, index_col=0, parse_dates=True, squeeze=True)\n",
    "\n",
    "\n",
    "# predict for 2021 and 2022\n",
    "X = series.values\n",
    "X = X.astype('float32')\n",
    "size = len(X) - 1\n",
    "train = X[0:size]\n",
    "best_parameter = chosen_paramters\n",
    "years_for_predictions = [\"2021\", \"2022\"]\n",
    "\n",
    "model = ARIMA(train, order=(best_parameter[0],best_parameter[1],best_parameter[2]))\n",
    "model_fit = model.fit()\n",
    "output = model_fit.get_forecast(2)\n",
    "confidence_intervals = output.conf_int(0.05)\n",
    "predictions = output.predicted_mean\n",
    "\n",
    "for i in range(len(predictions)):\n",
    "  yhat = predictions[i]\n",
    "  ci = confidence_intervals[i]\n",
    "  print('* %s' % (years_for_predictions[i]))\n",
    "  print('predicted=%.3f' % (yhat))\n",
    "  print('95%% Interval: %.3f to %.3f' % (ci[0], ci[1]))\n",
    "\n",
    "\n"
   ]
  },
  {
   "cell_type": "markdown",
   "metadata": {
    "id": "F3TCMUg1JyNj"
   },
   "source": [
    "<div class=\"alert alert-block alert-info\">\n",
    "\n",
    "**Code**: <br>\n",
    "  I use matplotlib to draw the line plot with training data from 2013 to 2020, the prediction and also the confidence interval (95%).\n",
    "\n",
    "</div>"
   ]
  },
  {
   "cell_type": "code",
   "execution_count": null,
   "metadata": {
    "colab": {
     "base_uri": "https://localhost:8080/",
     "height": 411
    },
    "id": "PMTaDurDSVjj",
    "outputId": "5c0216ae-3c92-4782-dee7-b8112ea41a02"
   },
   "outputs": [
    {
     "data": {
      "text/plain": [
       "[]"
      ]
     },
     "execution_count": 28,
     "metadata": {
      "tags": []
     },
     "output_type": "execute_result"
    },
    {
     "data": {
      "image/png": "[encoded data removed]",
      "text/plain": [
       "<Figure size 792x432 with 1 Axes>"
      ]
     },
     "metadata": {
      "needs_background": "light",
      "tags": []
     },
     "output_type": "display_data"
    }
   ],
   "source": [
    "# Plot the points and the prediction with its confidence interval\n",
    "from matplotlib import pyplot as plt\n",
    "import matplotlib.ticker\n",
    "import numpy as np\n",
    "# x-axis\n",
    "size = len(X)\n",
    "training_data_years = years[0:size]\n",
    "predicted_data_years = years[size-1:] + ['2022']\n",
    "x = len(training_data_years) + len(predicted_data_years) - 1\n",
    "x_range = list(range(x))\n",
    "training_data_x_range = x_range[0:len(training_data_years)]\n",
    "predicted_data_x_range = x_range[len(training_data_years)-1:]\n",
    "\n",
    "\n",
    "# y-axis\n",
    "predicted_y_data = [prediction for prediction in predictions]\n",
    "\n",
    "train_y_data = list(X[0:size-1])\n",
    "train_y_data.append(predicted_y_data[0])\n",
    "\n",
    "# Plot\n",
    "fig, ax = plt.subplots(figsize=(11,6))\n",
    "\n",
    "\n",
    "ax.plot(training_data_x_range, train_y_data, color=\"green\", label=\"Traning Data\")\n",
    "ax.plot(predicted_data_x_range, predicted_y_data, color=\"red\", label=\"Prediction\")\n",
    "ax.fill_between(predicted_data_x_range,\n",
    "                np.array(confidence_intervals)[:,0], np.array(confidence_intervals)[:,1],\n",
    "                alpha=0.1, color='b', label=\"Confidence Intervals\")\n",
    "\n",
    "# Customization\n",
    "xticks_labels = [year for year in years]\n",
    "xticks_labels.append('2022')\n",
    "ax.legend(fontsize=12)\n",
    "ax.set_xlabel(\"Year\", size=\"12\")\n",
    "ax.set_xticks(np.arange(0, len(x_range)+1, 1))\n",
    "ax.set_xticklabels(xticks_labels, {\"fontsize\": 10})\n",
    "plt.plot()\n",
    "\n"
   ]
  },
  {
   "cell_type": "markdown",
   "metadata": {},
   "source": [
    "### Analysis\n",
    "RMSE indicates the fit of actual data and the prediction model. The lower RMSE, the better the model. In this case, the lowest RMSE = 92.949608, therefore, the best parameter is p= 2, d= 1, q=1 (based on data crawling from https://scholar.google.com/citations?user=dqwjm-0AAAAJ on 3:50pm 22 May 2021).\n",
    "Base on the data from 2003 to 2020, the model predicted the number of citations will grow dramatically with 1151 citations in 2021 and 1477 citations in 2022. With 95% of confidence, the true value of the number of citations lies somewhere between 1075 and 1227 citations in 2021, and between 1280 and 1675 citations in 2022."
   ]
  }
 ],
 "metadata": {
  "colab": {
   "collapsed_sections": [],
   "name": "Group123_SIT742_official.ipynb",
   "provenance": [],
   "toc_visible": true
  },
  "kernelspec": {
   "display_name": "Python 3 (ipykernel)",
   "language": "python",
   "name": "python3"
  },
  "language_info": {
   "codemirror_mode": {
    "name": "ipython",
    "version": 3
   },
   "file_extension": ".py",
   "mimetype": "text/x-python",
   "name": "python",
   "nbconvert_exporter": "python",
   "pygments_lexer": "ipython3",
   "version": "3.11.5"
  },
  "widgets": {
   "application/vnd.jupyter.widget-state+json": {
    "40692df64bc24bcb92902b14acd33e57": {
     "model_module": "@jupyter-widgets/controls",
     "model_name": "IntProgressModel",
     "state": {
      "_dom_classes": [],
      "_model_module": "@jupyter-widgets/controls",
      "_model_module_version": "1.5.0",
      "_model_name": "IntProgressModel",
      "_view_count": null,
      "_view_module": "@jupyter-widgets/controls",
      "_view_module_version": "1.5.0",
      "_view_name": "ProgressView",
      "bar_style": "",
      "description": "Loading:",
      "description_tooltip": null,
      "layout": "IPY_MODEL_d9f4bc347fe54af388fb04f322cf373c",
      "max": 120,
      "min": 0,
      "orientation": "horizontal",
      "style": "IPY_MODEL_a13f38b3245241e58d6d5da71bd4e68a",
      "value": 120
     }
    },
    "a13f38b3245241e58d6d5da71bd4e68a": {
     "model_module": "@jupyter-widgets/controls",
     "model_name": "ProgressStyleModel",
     "state": {
      "_model_module": "@jupyter-widgets/controls",
      "_model_module_version": "1.5.0",
      "_model_name": "ProgressStyleModel",
      "_view_count": null,
      "_view_module": "@jupyter-widgets/base",
      "_view_module_version": "1.2.0",
      "_view_name": "StyleView",
      "bar_color": null,
      "description_width": ""
     }
    },
    "d9f4bc347fe54af388fb04f322cf373c": {
     "model_module": "@jupyter-widgets/base",
     "model_name": "LayoutModel",
     "state": {
      "_model_module": "@jupyter-widgets/base",
      "_model_module_version": "1.2.0",
      "_model_name": "LayoutModel",
      "_view_count": null,
      "_view_module": "@jupyter-widgets/base",
      "_view_module_version": "1.2.0",
      "_view_name": "LayoutView",
      "align_content": null,
      "align_items": null,
      "align_self": null,
      "border": null,
      "bottom": null,
      "display": null,
      "flex": null,
      "flex_flow": null,
      "grid_area": null,
      "grid_auto_columns": null,
      "grid_auto_flow": null,
      "grid_auto_rows": null,
      "grid_column": null,
      "grid_gap": null,
      "grid_row": null,
      "grid_template_areas": null,
      "grid_template_columns": null,
      "grid_template_rows": null,
      "height": null,
      "justify_content": null,
      "justify_items": null,
      "left": null,
      "margin": null,
      "max_height": null,
      "max_width": null,
      "min_height": null,
      "min_width": null,
      "object_fit": null,
      "object_position": null,
      "order": null,
      "overflow": null,
      "overflow_x": null,
      "overflow_y": null,
      "padding": null,
      "right": null,
      "top": null,
      "visibility": null,
      "width": null
     }
    }
   }
  }
 },
 "nbformat": 4,
 "nbformat_minor": 1
}
